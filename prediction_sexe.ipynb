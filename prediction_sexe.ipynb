{
 "cells": [
  {
   "cell_type": "code",
   "execution_count": 1,
   "metadata": {},
   "outputs": [
    {
     "name": "stderr",
     "output_type": "stream",
     "text": [
      "c:\\Users\\Yseult Masson\\anaconda3\\envs\\ensae-dl\\Lib\\site-packages\\tqdm\\auto.py:21: TqdmWarning: IProgress not found. Please update jupyter and ipywidgets. See https://ipywidgets.readthedocs.io/en/stable/user_install.html\n",
      "  from .autonotebook import tqdm as notebook_tqdm\n"
     ]
    }
   ],
   "source": [
    "import pandas as pd\n",
    "import re\n",
    "import numpy as np\n",
    "from tqdm import tqdm\n",
    "import functools\n",
    "\n",
    "from sklearn.metrics import classification_report, ConfusionMatrixDisplay\n",
    "from sklearn.model_selection import train_test_split, GridSearchCV\n",
    "from sklearn.preprocessing import TargetEncoder, StandardScaler\n",
    "from sklearn.compose import ColumnTransformer\n",
    "from sklearn.pipeline import Pipeline\n",
    "from sklearn.impute import SimpleImputer\n",
    "from sklearn.base import BaseEstimator, TransformerMixin\n",
    "from sklearn.ensemble import RandomForestClassifier\n",
    "\n",
    "import torch\n",
    "from torch.utils.data import DataLoader, Dataset\n",
    "from transformers import CamembertTokenizer, CamembertForSequenceClassification"
   ]
  },
  {
   "cell_type": "code",
   "execution_count": 2,
   "metadata": {},
   "outputs": [],
   "source": [
    "# Import des données\n",
    "names_freq = pd.read_csv('firstname_with_sex.csv', sep=';')\n",
    "transcriptions = pd.read_csv('transcriptions_with_sex.csv')"
   ]
  },
  {
   "cell_type": "code",
   "execution_count": 3,
   "metadata": {},
   "outputs": [],
   "source": [
    "# Ajout du taux de masculinité du prénom (nombre de fois où le prénom est porté par un homme divisé par le nombre de personnes qui portent ce prénom)\n",
    "names_freq['male_frequency'] = names_freq['male'] / (names_freq['male'] + names_freq['female'])"
   ]
  },
  {
   "cell_type": "markdown",
   "metadata": {},
   "source": [
    "## Préprocessing des données"
   ]
  },
  {
   "cell_type": "markdown",
   "metadata": {},
   "source": [
    "\"date_naissance\" contient soit l'année de naissance (quand il y a 4 chiffres), soit l'âge (quand il y en a 2).\n",
    "\n",
    "Les lignes ne sont pas dans l'ordre (il y a parfois des \"idem\", \"id\" ou \" \" \" juste après un None, et les dates de naissances sont mélangées aux âges, il ne s'agit donc pas du même recensement)."
   ]
  },
  {
   "cell_type": "code",
   "execution_count": 4,
   "metadata": {},
   "outputs": [],
   "source": [
    "def extract_pattern(input_string):\n",
    "    \"\"\"Extrait les informations personelles à partir de la phrase brute.\"\"\"\n",
    "    pattern = r'(\\b\\w+:\\s[\\w\\-\"\\s]+ )'\n",
    "    result = re.findall(pattern, input_string + ' ')\n",
    "\n",
    "    dico = {}\n",
    "    for e in result:\n",
    "        elems = e.split(':')\n",
    "        dico[elems[0]] = elems[1].strip()\n",
    "\n",
    "    return dico"
   ]
  },
  {
   "cell_type": "code",
   "execution_count": 5,
   "metadata": {},
   "outputs": [],
   "source": [
    "# Création d'une colonne pour chaque information de la colonne \"prediction\"\n",
    "transcriptions[['nom', 'prénom',\n",
    "       'date_naissance', 'lieux_naissance', 'employeur', 'relation',\n",
    "       'profession', 'état_civil', 'éducation']] = 'None'\n",
    "\n",
    "for i in range(transcriptions.shape[0]):\n",
    "    dico = extract_pattern(transcriptions.loc[i, 'prediction'])\n",
    "    for key in dico.keys():\n",
    "        transcriptions.loc[i, key] = dico[key]"
   ]
  },
  {
   "cell_type": "code",
   "execution_count": 6,
   "metadata": {},
   "outputs": [],
   "source": [
    "# Conservation des colonnes utiles (informatives et ne contenant pas une majorité de valeurs abérantes ou manquantes)\n",
    "df = transcriptions[['prediction', 'prénom', 'profession', 'relation', 'sex']].copy()"
   ]
  },
  {
   "cell_type": "code",
   "execution_count": 7,
   "metadata": {},
   "outputs": [],
   "source": [
    "# Mettre comme valeur manquante les \", idem et id, car elles ne sont pas informatives\n",
    "df['relation'] = df['relation'].apply(lambda x: 'None' if x in ['idem', 'id', '\"'] else x)"
   ]
  },
  {
   "cell_type": "code",
   "execution_count": 8,
   "metadata": {},
   "outputs": [],
   "source": [
    "# Preprocessing des prénoms\n",
    "df.loc[:, 'prénom'] = df['prénom'].apply(lambda x: x.lower().replace(\" \", \"\").replace(\"-\", \"\"))"
   ]
  },
  {
   "cell_type": "code",
   "execution_count": 9,
   "metadata": {},
   "outputs": [],
   "source": [
    "# Merge avec la base des prénoms\n",
    "df = df.rename(columns={'prénom': 'firstname'})\n",
    "df = df.merge(names_freq[['firstname', 'male_frequency']], on=['firstname'], how='left')"
   ]
  },
  {
   "cell_type": "code",
   "execution_count": 10,
   "metadata": {},
   "outputs": [
    {
     "data": {
      "text/plain": [
       "sex\n",
       "homme     125\n",
       "femme     107\n",
       "ambigu      9\n",
       "Name: count, dtype: int64"
      ]
     },
     "execution_count": 10,
     "metadata": {},
     "output_type": "execute_result"
    }
   ],
   "source": [
    "transcriptions['sex'].value_counts()"
   ]
  },
  {
   "cell_type": "code",
   "execution_count": 11,
   "metadata": {},
   "outputs": [],
   "source": [
    "# Suppression des lignes pour lesquelles on n'a pas le vrai label ('ambigu')\n",
    "df = df.loc[~(df['sex'] == 'ambigu')]"
   ]
  },
  {
   "cell_type": "markdown",
   "metadata": {},
   "source": [
    "## Règles de décision"
   ]
  },
  {
   "cell_type": "code",
   "execution_count": 12,
   "metadata": {},
   "outputs": [],
   "source": [
    "df_decisionrule = df.copy()"
   ]
  },
  {
   "cell_type": "code",
   "execution_count": 13,
   "metadata": {},
   "outputs": [],
   "source": [
    "def pred_sex(row):\n",
    "\n",
    "    # Si le prénom est à plus de 90% masculin ou féminin, on renvoie le sexe indiqué\n",
    "    if (row['male_frequency'] is not None) and (row['male_frequency'] >= 0.90):\n",
    "        return 'homme'\n",
    "    elif (row['male_frequency'] is not None) and (row['male_frequency'] <= 0.1):\n",
    "        return 'femme'\n",
    "    \n",
    "    # Si la relation contient 'mère', 'mere', 'fille', 'soeur', 'femme' ou 'brue', on renvoie 'femme', et si elle contient 'père', 'pere', 'fils', 'frere' ou 'frère', on renvoie 'homme'.\n",
    "    if any(w in row['relation'] for w in ['mère', 'mere', 'fille', 'soeur', 'femme', 'brue']):\n",
    "        return 'femme'\n",
    "    elif any(w in row['relation'] for w in ['père', 'pere', 'fils', 'frere', 'frère']):\n",
    "        return 'homme'\n",
    "\n",
    "    # Idem pour la profession\n",
    "    if any(w in row['profession'] for w in ['ière', 'euse']):\n",
    "        return 'femme'\n",
    "    elif any(w in row['profession'] for w in ['fils', 'ier', 'eur', 'patron']):\n",
    "        return 'homme'\n",
    "    \n",
    "    # Sinon, on renvoie 'femme' si le prénom est à plus de 50% féminin, et 'homme' sinon.\n",
    "    if (row['male_frequency'] is not None) and (row['male_frequency'] >= 0.5):\n",
    "        return 'homme'\n",
    "    elif (row['male_frequency'] is not None) and (row['male_frequency'] < 0.5):\n",
    "        return 'femme'\n",
    "\n",
    "    return 'homme' # Il y a 52% d'hommes dans les données, on renvoie donc 'homme' si on n'a aucune autre information"
   ]
  },
  {
   "cell_type": "code",
   "execution_count": 14,
   "metadata": {},
   "outputs": [],
   "source": [
    "# Prédiction\n",
    "df_decisionrule['sex_pred'] = df_decisionrule.apply(pred_sex, axis=1)"
   ]
  },
  {
   "cell_type": "code",
   "execution_count": 15,
   "metadata": {},
   "outputs": [
    {
     "name": "stdout",
     "output_type": "stream",
     "text": [
      "              precision    recall  f1-score   support\n",
      "\n",
      "       femme       0.97      0.91      0.94       107\n",
      "       homme       0.92      0.98      0.95       125\n",
      "\n",
      "    accuracy                           0.94       232\n",
      "   macro avg       0.95      0.94      0.94       232\n",
      "weighted avg       0.95      0.94      0.94       232\n",
      "\n"
     ]
    }
   ],
   "source": [
    "# Scores obtenus\n",
    "print(classification_report(df_decisionrule['sex'], df_decisionrule['sex_pred']))"
   ]
  },
  {
   "cell_type": "code",
   "execution_count": 16,
   "metadata": {},
   "outputs": [
    {
     "data": {
      "text/plain": [
       "<sklearn.metrics._plot.confusion_matrix.ConfusionMatrixDisplay at 0x2d7d1d3d7f0>"
      ]
     },
     "execution_count": 16,
     "metadata": {},
     "output_type": "execute_result"
    },
    {
     "data": {
      "image/png": "[encoded data removed]",
      "text/plain": [
       "<Figure size 640x480 with 2 Axes>"
      ]
     },
     "metadata": {},
     "output_type": "display_data"
    }
   ],
   "source": [
    "# Matrice de confusion\n",
    "ConfusionMatrixDisplay.from_predictions(df_decisionrule['sex'], df_decisionrule['sex_pred'])"
   ]
  },
  {
   "cell_type": "markdown",
   "metadata": {},
   "source": [
    "## Random forest"
   ]
  },
  {
   "cell_type": "markdown",
   "metadata": {},
   "source": [
    "Pour utiliser une random forest, on doit avoir des inputs numériques. Il faut donc encoder les données catégorielles."
   ]
  },
  {
   "cell_type": "code",
   "execution_count": 17,
   "metadata": {},
   "outputs": [],
   "source": [
    "df_rf = df.drop(columns='prediction')"
   ]
  },
  {
   "cell_type": "code",
   "execution_count": 18,
   "metadata": {},
   "outputs": [],
   "source": [
    "# Encodage du sexe\n",
    "df_rf['sex'] = df_rf['sex'].apply(lambda x: 0 if x=='homme' else 1)"
   ]
  },
  {
   "cell_type": "code",
   "execution_count": 19,
   "metadata": {},
   "outputs": [],
   "source": [
    "# Données d'entraînement et de test\n",
    "X_train, X_test, y_train, y_test = train_test_split(df_rf.drop(columns='sex'), df_rf['sex'], test_size=0.3, random_state=67)"
   ]
  },
  {
   "cell_type": "code",
   "execution_count": 38,
   "metadata": {},
   "outputs": [
    {
     "data": {
      "text/plain": [
       "profession\n",
       "None                      173\n",
       "id                          8\n",
       "patron                      3\n",
       "\"                           2\n",
       "domestique                  2\n",
       "manoeuvre                   2\n",
       "sp                          2\n",
       "enttinateur                 2\n",
       "eublinateur                 1\n",
       "culsinière                  1\n",
       "san pla                     1\n",
       "naveur euregestrement       1\n",
       "D                           1\n",
       "S por                       1\n",
       "lavane                      1\n",
       "Menuisier                   1\n",
       "Menseuvr                    1\n",
       "Louv fils                   1\n",
       "represt de pamis            1\n",
       "métag                       1\n",
       "profevitaire                1\n",
       "entiinateur                 1\n",
       "href                        1\n",
       "Cubsinière                  1\n",
       "eublinat                    1\n",
       "repasseuse                  1\n",
       "Employé                     1\n",
       "charesier                   1\n",
       "emp pils                    1\n",
       "cuisinière                  1\n",
       "culviciste                  1\n",
       "voiturier                   1\n",
       "Ed                          1\n",
       "Domestique de ferma         1\n",
       "sans professeur             1\n",
       "entiiiateur                 1\n",
       "Turaliste                   1\n",
       "Lameau                      1\n",
       "Cleve de motarie            1\n",
       "charentier                  1\n",
       "sellier                     1\n",
       "sans pe                     1\n",
       "polisseur                   1\n",
       "métro                       1\n",
       "journalier bessinateur      1\n",
       "fils                        1\n",
       "Name: count, dtype: int64"
      ]
     },
     "execution_count": 38,
     "metadata": {},
     "output_type": "execute_result"
    }
   ],
   "source": [
    "# La grande majorité des professions n'apparaissent qu'une fois (patron 3, domestique 2, manoeuvre 2, sp 2, enttinateur 2), le reste 1.\n",
    "df_rf['profession'].value_counts()"
   ]
  },
  {
   "cell_type": "markdown",
   "metadata": {},
   "source": [
    "Pour la relation et les prénoms, on utilise un TargetEncoder.\n",
    "Pour la profession, on va seulement encoder \"activité professionnelle\" ou \"pas d'activité professionnelle\"."
   ]
  },
  {
   "cell_type": "code",
   "execution_count": 20,
   "metadata": {},
   "outputs": [],
   "source": [
    "class ProfessionEncoder(BaseEstimator, TransformerMixin):\n",
    "    def __init__(self, pos_labels, columns):\n",
    "        self.pos_labels = pos_labels\n",
    "        self.columns = columns\n",
    "    \n",
    "    def fit(self, X=None, y=None):\n",
    "        return self\n",
    "    \n",
    "    def transform(self, X, y=None):\n",
    "        X[self.columns] = X[self.columns].apply(lambda x: 0 if x in self.pos_labels else 1)\n",
    "        return X"
   ]
  },
  {
   "cell_type": "code",
   "execution_count": 21,
   "metadata": {},
   "outputs": [],
   "source": [
    "# Preprocessing\n",
    "\n",
    "target_categorical_features = [\"firstname\", \"relation\"]\n",
    "categorical_transformer = Pipeline(\n",
    "    steps=[(\"encoder\", TargetEncoder(shuffle=False))]\n",
    ")\n",
    "\n",
    "profession_transformer = Pipeline(\n",
    "    steps=[(\"encoder\", ProfessionEncoder(['None', 'sp'], 'profession'))]\n",
    ")\n",
    "\n",
    "numeric_features = [\"male_frequency\"]\n",
    "numeric_transformer = Pipeline(\n",
    "    steps=[(\"imputer\", SimpleImputer(strategy=\"mean\")), (\"scaler\", StandardScaler())]\n",
    ")\n",
    "\n",
    "\n",
    "preprocessor = ColumnTransformer(\n",
    "    transformers=[\n",
    "        (\"num\", numeric_transformer, numeric_features),\n",
    "        (\"cat\", categorical_transformer, target_categorical_features),\n",
    "        (\"pro\", profession_transformer, [\"profession\"])\n",
    "    ]\n",
    ")"
   ]
  },
  {
   "cell_type": "code",
   "execution_count": 22,
   "metadata": {},
   "outputs": [
    {
     "data": {
      "text/html": [
       "<style>#sk-container-id-1 {color: black;}#sk-container-id-1 pre{padding: 0;}#sk-container-id-1 div.sk-toggleable {background-color: white;}#sk-container-id-1 label.sk-toggleable__label {cursor: pointer;display: block;width: 100%;margin-bottom: 0;padding: 0.3em;box-sizing: border-box;text-align: center;}#sk-container-id-1 label.sk-toggleable__label-arrow:before {content: \"▸\";float: left;margin-right: 0.25em;color: #696969;}#sk-container-id-1 label.sk-toggleable__label-arrow:hover:before {color: black;}#sk-container-id-1 div.sk-estimator:hover label.sk-toggleable__label-arrow:before {color: black;}#sk-container-id-1 div.sk-toggleable__content {max-height: 0;max-width: 0;overflow: hidden;text-align: left;background-color: #f0f8ff;}#sk-container-id-1 div.sk-toggleable__content pre {margin: 0.2em;color: black;border-radius: 0.25em;background-color: #f0f8ff;}#sk-container-id-1 input.sk-toggleable__control:checked~div.sk-toggleable__content {max-height: 200px;max-width: 100%;overflow: auto;}#sk-container-id-1 input.sk-toggleable__control:checked~label.sk-toggleable__label-arrow:before {content: \"▾\";}#sk-container-id-1 div.sk-estimator input.sk-toggleable__control:checked~label.sk-toggleable__label {background-color: #d4ebff;}#sk-container-id-1 div.sk-label input.sk-toggleable__control:checked~label.sk-toggleable__label {background-color: #d4ebff;}#sk-container-id-1 input.sk-hidden--visually {border: 0;clip: rect(1px 1px 1px 1px);clip: rect(1px, 1px, 1px, 1px);height: 1px;margin: -1px;overflow: hidden;padding: 0;position: absolute;width: 1px;}#sk-container-id-1 div.sk-estimator {font-family: monospace;background-color: #f0f8ff;border: 1px dotted black;border-radius: 0.25em;box-sizing: border-box;margin-bottom: 0.5em;}#sk-container-id-1 div.sk-estimator:hover {background-color: #d4ebff;}#sk-container-id-1 div.sk-parallel-item::after {content: \"\";width: 100%;border-bottom: 1px solid gray;flex-grow: 1;}#sk-container-id-1 div.sk-label:hover label.sk-toggleable__label {background-color: #d4ebff;}#sk-container-id-1 div.sk-serial::before {content: \"\";position: absolute;border-left: 1px solid gray;box-sizing: border-box;top: 0;bottom: 0;left: 50%;z-index: 0;}#sk-container-id-1 div.sk-serial {display: flex;flex-direction: column;align-items: center;background-color: white;padding-right: 0.2em;padding-left: 0.2em;position: relative;}#sk-container-id-1 div.sk-item {position: relative;z-index: 1;}#sk-container-id-1 div.sk-parallel {display: flex;align-items: stretch;justify-content: center;background-color: white;position: relative;}#sk-container-id-1 div.sk-item::before, #sk-container-id-1 div.sk-parallel-item::before {content: \"\";position: absolute;border-left: 1px solid gray;box-sizing: border-box;top: 0;bottom: 0;left: 50%;z-index: -1;}#sk-container-id-1 div.sk-parallel-item {display: flex;flex-direction: column;z-index: 1;position: relative;background-color: white;}#sk-container-id-1 div.sk-parallel-item:first-child::after {align-self: flex-end;width: 50%;}#sk-container-id-1 div.sk-parallel-item:last-child::after {align-self: flex-start;width: 50%;}#sk-container-id-1 div.sk-parallel-item:only-child::after {width: 0;}#sk-container-id-1 div.sk-dashed-wrapped {border: 1px dashed gray;margin: 0 0.4em 0.5em 0.4em;box-sizing: border-box;padding-bottom: 0.4em;background-color: white;}#sk-container-id-1 div.sk-label label {font-family: monospace;font-weight: bold;display: inline-block;line-height: 1.2em;}#sk-container-id-1 div.sk-label-container {text-align: center;}#sk-container-id-1 div.sk-container {/* jupyter's `normalize.less` sets `[hidden] { display: none; }` but bootstrap.min.css set `[hidden] { display: none !important; }` so we also need the `!important` here to be able to override the default hidden behavior on the sphinx rendered scikit-learn.org. See: https://github.com/scikit-learn/scikit-learn/issues/21755 */display: inline-block !important;position: relative;}#sk-container-id-1 div.sk-text-repr-fallback {display: none;}</style><div id=\"sk-container-id-1\" class=\"sk-top-container\"><div class=\"sk-text-repr-fallback\"><pre>GridSearchCV(cv=5,\n",
       "             estimator=Pipeline(steps=[(&#x27;transformer&#x27;,\n",
       "                                        ColumnTransformer(transformers=[(&#x27;num&#x27;,\n",
       "                                                                         Pipeline(steps=[(&#x27;imputer&#x27;,\n",
       "                                                                                          SimpleImputer()),\n",
       "                                                                                         (&#x27;scaler&#x27;,\n",
       "                                                                                          StandardScaler())]),\n",
       "                                                                         [&#x27;male_frequency&#x27;]),\n",
       "                                                                        (&#x27;cat&#x27;,\n",
       "                                                                         Pipeline(steps=[(&#x27;encoder&#x27;,\n",
       "                                                                                          TargetEncoder(shuffle=False))]),\n",
       "                                                                         [&#x27;firstname&#x27;,\n",
       "                                                                          &#x27;relation&#x27;]),\n",
       "                                                                        (&#x27;pro&#x27;,\n",
       "                                                                         Pipeline(steps=[(&#x27;encoder&#x27;,\n",
       "                                                                                          ProfessionEncoder(columns=&#x27;profession&#x27;,\n",
       "                                                                                                            pos_labels=[&#x27;None&#x27;,\n",
       "                                                                                                                        &#x27;sp&#x27;]))]),\n",
       "                                                                         [&#x27;profession&#x27;])])),\n",
       "                                       (&#x27;classifier&#x27;,\n",
       "                                        RandomForestClassifier(random_state=7888))]),\n",
       "             n_jobs=-1,\n",
       "             param_grid={&#x27;classifier__max_depth&#x27;: [3, 5, None],\n",
       "                         &#x27;classifier__max_features&#x27;: [&#x27;sqrt&#x27;, None],\n",
       "                         &#x27;classifier__n_estimators&#x27;: [50, 75, 100, 200]},\n",
       "             scoring=&#x27;accuracy&#x27;)</pre><b>In a Jupyter environment, please rerun this cell to show the HTML representation or trust the notebook. <br />On GitHub, the HTML representation is unable to render, please try loading this page with nbviewer.org.</b></div><div class=\"sk-container\" hidden><div class=\"sk-item sk-dashed-wrapped\"><div class=\"sk-label-container\"><div class=\"sk-label sk-toggleable\"><input class=\"sk-toggleable__control sk-hidden--visually\" id=\"sk-estimator-id-1\" type=\"checkbox\" ><label for=\"sk-estimator-id-1\" class=\"sk-toggleable__label sk-toggleable__label-arrow\">GridSearchCV</label><div class=\"sk-toggleable__content\"><pre>GridSearchCV(cv=5,\n",
       "             estimator=Pipeline(steps=[(&#x27;transformer&#x27;,\n",
       "                                        ColumnTransformer(transformers=[(&#x27;num&#x27;,\n",
       "                                                                         Pipeline(steps=[(&#x27;imputer&#x27;,\n",
       "                                                                                          SimpleImputer()),\n",
       "                                                                                         (&#x27;scaler&#x27;,\n",
       "                                                                                          StandardScaler())]),\n",
       "                                                                         [&#x27;male_frequency&#x27;]),\n",
       "                                                                        (&#x27;cat&#x27;,\n",
       "                                                                         Pipeline(steps=[(&#x27;encoder&#x27;,\n",
       "                                                                                          TargetEncoder(shuffle=False))]),\n",
       "                                                                         [&#x27;firstname&#x27;,\n",
       "                                                                          &#x27;relation&#x27;]),\n",
       "                                                                        (&#x27;pro&#x27;,\n",
       "                                                                         Pipeline(steps=[(&#x27;encoder&#x27;,\n",
       "                                                                                          ProfessionEncoder(columns=&#x27;profession&#x27;,\n",
       "                                                                                                            pos_labels=[&#x27;None&#x27;,\n",
       "                                                                                                                        &#x27;sp&#x27;]))]),\n",
       "                                                                         [&#x27;profession&#x27;])])),\n",
       "                                       (&#x27;classifier&#x27;,\n",
       "                                        RandomForestClassifier(random_state=7888))]),\n",
       "             n_jobs=-1,\n",
       "             param_grid={&#x27;classifier__max_depth&#x27;: [3, 5, None],\n",
       "                         &#x27;classifier__max_features&#x27;: [&#x27;sqrt&#x27;, None],\n",
       "                         &#x27;classifier__n_estimators&#x27;: [50, 75, 100, 200]},\n",
       "             scoring=&#x27;accuracy&#x27;)</pre></div></div></div><div class=\"sk-parallel\"><div class=\"sk-parallel-item\"><div class=\"sk-item\"><div class=\"sk-label-container\"><div class=\"sk-label sk-toggleable\"><input class=\"sk-toggleable__control sk-hidden--visually\" id=\"sk-estimator-id-2\" type=\"checkbox\" ><label for=\"sk-estimator-id-2\" class=\"sk-toggleable__label sk-toggleable__label-arrow\">estimator: Pipeline</label><div class=\"sk-toggleable__content\"><pre>Pipeline(steps=[(&#x27;transformer&#x27;,\n",
       "                 ColumnTransformer(transformers=[(&#x27;num&#x27;,\n",
       "                                                  Pipeline(steps=[(&#x27;imputer&#x27;,\n",
       "                                                                   SimpleImputer()),\n",
       "                                                                  (&#x27;scaler&#x27;,\n",
       "                                                                   StandardScaler())]),\n",
       "                                                  [&#x27;male_frequency&#x27;]),\n",
       "                                                 (&#x27;cat&#x27;,\n",
       "                                                  Pipeline(steps=[(&#x27;encoder&#x27;,\n",
       "                                                                   TargetEncoder(shuffle=False))]),\n",
       "                                                  [&#x27;firstname&#x27;, &#x27;relation&#x27;]),\n",
       "                                                 (&#x27;pro&#x27;,\n",
       "                                                  Pipeline(steps=[(&#x27;encoder&#x27;,\n",
       "                                                                   ProfessionEncoder(columns=&#x27;profession&#x27;,\n",
       "                                                                                     pos_labels=[&#x27;None&#x27;,\n",
       "                                                                                                 &#x27;sp&#x27;]))]),\n",
       "                                                  [&#x27;profession&#x27;])])),\n",
       "                (&#x27;classifier&#x27;, RandomForestClassifier(random_state=7888))])</pre></div></div></div><div class=\"sk-serial\"><div class=\"sk-item\"><div class=\"sk-serial\"><div class=\"sk-item sk-dashed-wrapped\"><div class=\"sk-label-container\"><div class=\"sk-label sk-toggleable\"><input class=\"sk-toggleable__control sk-hidden--visually\" id=\"sk-estimator-id-3\" type=\"checkbox\" ><label for=\"sk-estimator-id-3\" class=\"sk-toggleable__label sk-toggleable__label-arrow\">transformer: ColumnTransformer</label><div class=\"sk-toggleable__content\"><pre>ColumnTransformer(transformers=[(&#x27;num&#x27;,\n",
       "                                 Pipeline(steps=[(&#x27;imputer&#x27;, SimpleImputer()),\n",
       "                                                 (&#x27;scaler&#x27;, StandardScaler())]),\n",
       "                                 [&#x27;male_frequency&#x27;]),\n",
       "                                (&#x27;cat&#x27;,\n",
       "                                 Pipeline(steps=[(&#x27;encoder&#x27;,\n",
       "                                                  TargetEncoder(shuffle=False))]),\n",
       "                                 [&#x27;firstname&#x27;, &#x27;relation&#x27;]),\n",
       "                                (&#x27;pro&#x27;,\n",
       "                                 Pipeline(steps=[(&#x27;encoder&#x27;,\n",
       "                                                  ProfessionEncoder(columns=&#x27;profession&#x27;,\n",
       "                                                                    pos_labels=[&#x27;None&#x27;,\n",
       "                                                                                &#x27;sp&#x27;]))]),\n",
       "                                 [&#x27;profession&#x27;])])</pre></div></div></div><div class=\"sk-parallel\"><div class=\"sk-parallel-item\"><div class=\"sk-item\"><div class=\"sk-label-container\"><div class=\"sk-label sk-toggleable\"><input class=\"sk-toggleable__control sk-hidden--visually\" id=\"sk-estimator-id-4\" type=\"checkbox\" ><label for=\"sk-estimator-id-4\" class=\"sk-toggleable__label sk-toggleable__label-arrow\">num</label><div class=\"sk-toggleable__content\"><pre>[&#x27;male_frequency&#x27;]</pre></div></div></div><div class=\"sk-serial\"><div class=\"sk-item\"><div class=\"sk-serial\"><div class=\"sk-item\"><div class=\"sk-estimator sk-toggleable\"><input class=\"sk-toggleable__control sk-hidden--visually\" id=\"sk-estimator-id-5\" type=\"checkbox\" ><label for=\"sk-estimator-id-5\" class=\"sk-toggleable__label sk-toggleable__label-arrow\">SimpleImputer</label><div class=\"sk-toggleable__content\"><pre>SimpleImputer()</pre></div></div></div><div class=\"sk-item\"><div class=\"sk-estimator sk-toggleable\"><input class=\"sk-toggleable__control sk-hidden--visually\" id=\"sk-estimator-id-6\" type=\"checkbox\" ><label for=\"sk-estimator-id-6\" class=\"sk-toggleable__label sk-toggleable__label-arrow\">StandardScaler</label><div class=\"sk-toggleable__content\"><pre>StandardScaler()</pre></div></div></div></div></div></div></div></div><div class=\"sk-parallel-item\"><div class=\"sk-item\"><div class=\"sk-label-container\"><div class=\"sk-label sk-toggleable\"><input class=\"sk-toggleable__control sk-hidden--visually\" id=\"sk-estimator-id-7\" type=\"checkbox\" ><label for=\"sk-estimator-id-7\" class=\"sk-toggleable__label sk-toggleable__label-arrow\">cat</label><div class=\"sk-toggleable__content\"><pre>[&#x27;firstname&#x27;, &#x27;relation&#x27;]</pre></div></div></div><div class=\"sk-serial\"><div class=\"sk-item\"><div class=\"sk-serial\"><div class=\"sk-item\"><div class=\"sk-estimator sk-toggleable\"><input class=\"sk-toggleable__control sk-hidden--visually\" id=\"sk-estimator-id-8\" type=\"checkbox\" ><label for=\"sk-estimator-id-8\" class=\"sk-toggleable__label sk-toggleable__label-arrow\">TargetEncoder</label><div class=\"sk-toggleable__content\"><pre>TargetEncoder(shuffle=False)</pre></div></div></div></div></div></div></div></div><div class=\"sk-parallel-item\"><div class=\"sk-item\"><div class=\"sk-label-container\"><div class=\"sk-label sk-toggleable\"><input class=\"sk-toggleable__control sk-hidden--visually\" id=\"sk-estimator-id-9\" type=\"checkbox\" ><label for=\"sk-estimator-id-9\" class=\"sk-toggleable__label sk-toggleable__label-arrow\">pro</label><div class=\"sk-toggleable__content\"><pre>[&#x27;profession&#x27;]</pre></div></div></div><div class=\"sk-serial\"><div class=\"sk-item\"><div class=\"sk-serial\"><div class=\"sk-item\"><div class=\"sk-estimator sk-toggleable\"><input class=\"sk-toggleable__control sk-hidden--visually\" id=\"sk-estimator-id-10\" type=\"checkbox\" ><label for=\"sk-estimator-id-10\" class=\"sk-toggleable__label sk-toggleable__label-arrow\">ProfessionEncoder</label><div class=\"sk-toggleable__content\"><pre>ProfessionEncoder(columns=&#x27;profession&#x27;, pos_labels=[&#x27;None&#x27;, &#x27;sp&#x27;])</pre></div></div></div></div></div></div></div></div></div></div><div class=\"sk-item\"><div class=\"sk-estimator sk-toggleable\"><input class=\"sk-toggleable__control sk-hidden--visually\" id=\"sk-estimator-id-11\" type=\"checkbox\" ><label for=\"sk-estimator-id-11\" class=\"sk-toggleable__label sk-toggleable__label-arrow\">RandomForestClassifier</label><div class=\"sk-toggleable__content\"><pre>RandomForestClassifier(random_state=7888)</pre></div></div></div></div></div></div></div></div></div></div></div></div>"
      ],
      "text/plain": [
       "GridSearchCV(cv=5,\n",
       "             estimator=Pipeline(steps=[('transformer',\n",
       "                                        ColumnTransformer(transformers=[('num',\n",
       "                                                                         Pipeline(steps=[('imputer',\n",
       "                                                                                          SimpleImputer()),\n",
       "                                                                                         ('scaler',\n",
       "                                                                                          StandardScaler())]),\n",
       "                                                                         ['male_frequency']),\n",
       "                                                                        ('cat',\n",
       "                                                                         Pipeline(steps=[('encoder',\n",
       "                                                                                          TargetEncoder(shuffle=False))]),\n",
       "                                                                         ['firstname',\n",
       "                                                                          'relation']),\n",
       "                                                                        ('pro',\n",
       "                                                                         Pipeline(steps=[('encoder',\n",
       "                                                                                          ProfessionEncoder(columns='profession',\n",
       "                                                                                                            pos_labels=['None',\n",
       "                                                                                                                        'sp']))]),\n",
       "                                                                         ['profession'])])),\n",
       "                                       ('classifier',\n",
       "                                        RandomForestClassifier(random_state=7888))]),\n",
       "             n_jobs=-1,\n",
       "             param_grid={'classifier__max_depth': [3, 5, None],\n",
       "                         'classifier__max_features': ['sqrt', None],\n",
       "                         'classifier__n_estimators': [50, 75, 100, 200]},\n",
       "             scoring='accuracy')"
      ]
     },
     "execution_count": 22,
     "metadata": {},
     "output_type": "execute_result"
    }
   ],
   "source": [
    "# Grille d'hyperparamètres\n",
    "param_grid = {\n",
    "    'classifier__n_estimators': [50, 75, 100, 200],\n",
    "    'classifier__max_depth': [3, 5, None],\n",
    "    'classifier__max_features': ['sqrt', None]\n",
    "}\n",
    "\n",
    "pipeline = Pipeline(steps=[('transformer', preprocessor), ('classifier', RandomForestClassifier(random_state=7888))])\n",
    "\n",
    "# Gridsearch avec validation croisée pour trouver les meilleurs hyperparamètres\n",
    "grid_search = GridSearchCV(estimator=pipeline, param_grid=param_grid, cv=5, scoring='accuracy', n_jobs=-1)\n",
    "grid_search.fit(X_train, y_train)"
   ]
  },
  {
   "cell_type": "code",
   "execution_count": 23,
   "metadata": {},
   "outputs": [],
   "source": [
    "# Meilleur modèle\n",
    "best_rf = grid_search.best_estimator_"
   ]
  },
  {
   "cell_type": "code",
   "execution_count": 24,
   "metadata": {},
   "outputs": [
    {
     "name": "stdout",
     "output_type": "stream",
     "text": [
      "              precision    recall  f1-score   support\n",
      "\n",
      "           0       1.00      0.99      0.99        87\n",
      "           1       0.99      1.00      0.99        75\n",
      "\n",
      "    accuracy                           0.99       162\n",
      "   macro avg       0.99      0.99      0.99       162\n",
      "weighted avg       0.99      0.99      0.99       162\n",
      "\n",
      "              precision    recall  f1-score   support\n",
      "\n",
      "           0       0.97      0.92      0.95        38\n",
      "           1       0.91      0.97      0.94        32\n",
      "\n",
      "    accuracy                           0.94        70\n",
      "   macro avg       0.94      0.94      0.94        70\n",
      "weighted avg       0.94      0.94      0.94        70\n",
      "\n"
     ]
    },
    {
     "data": {
      "text/plain": [
       "<sklearn.metrics._plot.confusion_matrix.ConfusionMatrixDisplay at 0x2d7d0acad50>"
      ]
     },
     "execution_count": 24,
     "metadata": {},
     "output_type": "execute_result"
    },
    {
     "data": {
      "image/png": "[encoded data removed]",
      "text/plain": [
       "<Figure size 640x480 with 2 Axes>"
      ]
     },
     "metadata": {},
     "output_type": "display_data"
    }
   ],
   "source": [
    "# Prédictions sur les sets d'entraînement et de test\n",
    "\n",
    "y_pred_train = best_rf.predict(X_train)\n",
    "y_pred_test = best_rf.predict(X_test)\n",
    "\n",
    "print(classification_report(y_train, y_pred_train))\n",
    "\n",
    "print(classification_report(y_test, y_pred_test))\n",
    "\n",
    "ConfusionMatrixDisplay.from_predictions(y_test, y_pred_test)"
   ]
  },
  {
   "cell_type": "markdown",
   "metadata": {},
   "source": [
    "# Camembert"
   ]
  },
  {
   "cell_type": "code",
   "execution_count": 25,
   "metadata": {},
   "outputs": [
    {
     "name": "stderr",
     "output_type": "stream",
     "text": [
      "Special tokens have been added in the vocabulary, make sure the associated word embeddings are fine-tuned or trained.\n",
      "Some weights of CamembertForSequenceClassification were not initialized from the model checkpoint at camembert-base and are newly initialized: ['classifier.dense.bias', 'classifier.dense.weight', 'classifier.out_proj.bias', 'classifier.out_proj.weight']\n",
      "You should probably TRAIN this model on a down-stream task to be able to use it for predictions and inference.\n"
     ]
    },
    {
     "data": {
      "text/plain": [
       "CamembertForSequenceClassification(\n",
       "  (roberta): CamembertModel(\n",
       "    (embeddings): CamembertEmbeddings(\n",
       "      (word_embeddings): Embedding(32005, 768, padding_idx=1)\n",
       "      (position_embeddings): Embedding(514, 768, padding_idx=1)\n",
       "      (token_type_embeddings): Embedding(1, 768)\n",
       "      (LayerNorm): LayerNorm((768,), eps=1e-05, elementwise_affine=True)\n",
       "      (dropout): Dropout(p=0.1, inplace=False)\n",
       "    )\n",
       "    (encoder): CamembertEncoder(\n",
       "      (layer): ModuleList(\n",
       "        (0-11): 12 x CamembertLayer(\n",
       "          (attention): CamembertAttention(\n",
       "            (self): CamembertSelfAttention(\n",
       "              (query): Linear(in_features=768, out_features=768, bias=True)\n",
       "              (key): Linear(in_features=768, out_features=768, bias=True)\n",
       "              (value): Linear(in_features=768, out_features=768, bias=True)\n",
       "              (dropout): Dropout(p=0.1, inplace=False)\n",
       "            )\n",
       "            (output): CamembertSelfOutput(\n",
       "              (dense): Linear(in_features=768, out_features=768, bias=True)\n",
       "              (LayerNorm): LayerNorm((768,), eps=1e-05, elementwise_affine=True)\n",
       "              (dropout): Dropout(p=0.1, inplace=False)\n",
       "            )\n",
       "          )\n",
       "          (intermediate): CamembertIntermediate(\n",
       "            (dense): Linear(in_features=768, out_features=3072, bias=True)\n",
       "            (intermediate_act_fn): GELUActivation()\n",
       "          )\n",
       "          (output): CamembertOutput(\n",
       "            (dense): Linear(in_features=3072, out_features=768, bias=True)\n",
       "            (LayerNorm): LayerNorm((768,), eps=1e-05, elementwise_affine=True)\n",
       "            (dropout): Dropout(p=0.1, inplace=False)\n",
       "          )\n",
       "        )\n",
       "      )\n",
       "    )\n",
       "  )\n",
       "  (classifier): CamembertClassificationHead(\n",
       "    (dense): Linear(in_features=768, out_features=768, bias=True)\n",
       "    (dropout): Dropout(p=0.1, inplace=False)\n",
       "    (out_proj): Linear(in_features=768, out_features=2, bias=True)\n",
       "  )\n",
       ")"
      ]
     },
     "execution_count": 25,
     "metadata": {},
     "output_type": "execute_result"
    }
   ],
   "source": [
    "# Import du modèle et du tokenizer\n",
    "tokenizer = CamembertTokenizer.from_pretrained(\"camembert-base\")\n",
    "model = CamembertForSequenceClassification.from_pretrained(\"camembert-base\")\n",
    "\n",
    "device = torch.device('cuda') if torch.cuda.is_available() else torch.device('cpu')\n",
    "\n",
    "model.to(device)"
   ]
  },
  {
   "cell_type": "code",
   "execution_count": 26,
   "metadata": {},
   "outputs": [],
   "source": [
    "# Garder uniquement les deux dernières couches (qui correspondent au classifier) comme entraînables\n",
    "for name, param in model.named_parameters():\n",
    "    param.requires_grad = True if name.startswith('classifier') else False"
   ]
  },
  {
   "cell_type": "code",
   "execution_count": 27,
   "metadata": {},
   "outputs": [
    {
     "data": {
      "text/plain": [
       "tensor([0., 0.], device='cuda:0')"
      ]
     },
     "execution_count": 27,
     "metadata": {},
     "output_type": "execute_result"
    }
   ],
   "source": [
    "# Initialiser les poids des couches de classification\n",
    "torch.manual_seed(42)\n",
    "np.random.seed(42)\n",
    "\n",
    "model.classifier.dense.weight.data.normal_(mean=0.0, std=0.02)\n",
    "model.classifier.dense.bias.data.zero_()\n",
    "model.classifier.out_proj.weight.data.normal_(mean=0.0, std=0.02)\n",
    "model.classifier.out_proj.bias.data.zero_()"
   ]
  },
  {
   "cell_type": "code",
   "execution_count": 28,
   "metadata": {},
   "outputs": [],
   "source": [
    "def male_frequency(input):\n",
    "    return 'inconnue' if (np.isnan(input)) else round(input, 2)\n",
    "\n",
    "def columns_to_text(row):\n",
    "    return f\"prénom: {row['firstname']} relation: {row['relation']} profession: {row['profession']} fréquence d'hommes: {male_frequency(row['male_frequency'])}\""
   ]
  },
  {
   "cell_type": "code",
   "execution_count": 29,
   "metadata": {},
   "outputs": [],
   "source": [
    "df_camembert = df.copy()\n",
    "\n",
    "# Remplacer 'None' par 'inconnue' (plus compréhensible par un modèle français)\n",
    "df_camembert['relation'] = df_camembert['relation'].apply(lambda x: x.lower().replace(\"none\", \"inconnue\"))\n",
    "df_camembert['profession'] = df_camembert['profession'].apply(lambda x: x.lower().replace(\"none\", \"inconnue\").replace(\"sp\", \"aucune\"))\n",
    "\n",
    "# Rassembler les informations utiles en une seule phrase\n",
    "df_camembert['text'] = df_camembert.apply(columns_to_text, axis=1)\n",
    "\n",
    "# Supprimer les autres colonnes\n",
    "df_camembert.drop(columns=['prediction', 'firstname', 'profession', 'relation', 'male_frequency'], inplace=True)\n",
    "\n",
    "# Encoder le sexe\n",
    "df_camembert['sex'] = df_camembert['sex'].apply(lambda x: 0 if x=='homme' else 1)"
   ]
  },
  {
   "cell_type": "code",
   "execution_count": 30,
   "metadata": {},
   "outputs": [],
   "source": [
    "class TranscriptionsDataset(Dataset):\n",
    "    def __init__(self, dataframe):\n",
    "        self.data = dataframe\n",
    "\n",
    "    def __len__(self):\n",
    "        return len(self.data)\n",
    "\n",
    "    def __getitem__(self, idx):\n",
    "        text = self.data.iloc[idx]['text']\n",
    "        label = self.data.iloc[idx]['sex']\n",
    "        return {'text': text, 'label': label}"
   ]
  },
  {
   "cell_type": "code",
   "execution_count": 31,
   "metadata": {},
   "outputs": [],
   "source": [
    "# Sets d'entraînement, de validation et de test\n",
    "train_df, test_df = train_test_split(df_camembert, test_size=0.3, random_state=44)\n",
    "train_df, val_df = train_test_split(train_df, test_size=0.1, random_state=42)\n",
    "\n",
    "train_dataset = TranscriptionsDataset(train_df)\n",
    "val_dataset = TranscriptionsDataset(val_df)\n",
    "test_dataset = TranscriptionsDataset(test_df)"
   ]
  },
  {
   "cell_type": "code",
   "execution_count": 32,
   "metadata": {},
   "outputs": [],
   "source": [
    "def tokenize_batch(samples, tokenizer):\n",
    "    text = [sample[\"text\"] for sample in samples]\n",
    "    labels = torch.tensor([sample[\"label\"] for sample in samples])\n",
    "    tokens = tokenizer(text, padding=\"longest\", truncation=True, return_tensors=\"pt\")\n",
    "\n",
    "    return {\"input_ids\": tokens.input_ids, \"attention_mask\": tokens.attention_mask, \"labels\": labels, \"sentences\": text}"
   ]
  },
  {
   "cell_type": "code",
   "execution_count": 33,
   "metadata": {},
   "outputs": [],
   "source": [
    "batch_size = 8\n",
    "\n",
    "train_loader = DataLoader(train_dataset, batch_size=batch_size, collate_fn=functools.partial(tokenize_batch, tokenizer=tokenizer), shuffle=True)\n",
    "val_loader = DataLoader(val_dataset, batch_size=batch_size, collate_fn=functools.partial(tokenize_batch, tokenizer=tokenizer))\n",
    "test_loader = DataLoader(test_dataset, batch_size=batch_size, collate_fn=functools.partial(tokenize_batch, tokenizer=tokenizer))"
   ]
  },
  {
   "cell_type": "code",
   "execution_count": 34,
   "metadata": {},
   "outputs": [],
   "source": [
    "def evaluate_accuracy(model, loader, device):\n",
    "    \"\"\"Renvoie la précision du modèle sur le set contenu dans loader\"\"\"\n",
    "    model.eval()\n",
    "\n",
    "    correct = 0\n",
    "    total = 0\n",
    "\n",
    "    with torch.no_grad():\n",
    "        for batch in loader:\n",
    "\n",
    "            input_ids = batch['input_ids'].to(device)\n",
    "            attention_mask = batch['attention_mask'].to(device)\n",
    "            labels = batch['labels'].to(device)\n",
    "\n",
    "            outputs = model(input_ids, attention_mask=attention_mask, labels=labels)\n",
    "\n",
    "            logits = outputs.logits\n",
    "            predictions = torch.argmax(logits, dim=1)\n",
    "\n",
    "            correct += torch.sum(predictions == labels).item()\n",
    "            total += logits.size(0)\n",
    "\n",
    "    accuracy = correct / total\n",
    "    return accuracy"
   ]
  },
  {
   "cell_type": "code",
   "execution_count": 35,
   "metadata": {},
   "outputs": [],
   "source": [
    "def train(model, num_epochs=20, lr=1e-2):\n",
    "    \"\"\"Entraîne les couches de classification du modèle\"\"\"\n",
    "\n",
    "    optim = torch.optim.AdamW(model.parameters(), lr=lr)\n",
    "\n",
    "    for epoch in range(num_epochs):\n",
    "        model.train()\n",
    "        epoch_loss = 0\n",
    "        for batch in tqdm(train_loader):\n",
    "            \n",
    "            input_ids = batch['input_ids'].to(device)\n",
    "            attention_mask = batch['attention_mask'].to(device)\n",
    "            labels = batch['labels'].to(device)\n",
    "\n",
    "            # Forward pass\n",
    "            outputs = model(input_ids, attention_mask=attention_mask, labels=labels)\n",
    "            loss = outputs[0]\n",
    "            epoch_loss += loss.item()\n",
    "\n",
    "            # Backward pass\n",
    "            optim.zero_grad()\n",
    "            loss.backward()\n",
    "            optim.step()\n",
    "\n",
    "        # Précisions et perte\n",
    "        train_acc = evaluate_accuracy(model, train_loader, device)\n",
    "        val_acc = evaluate_accuracy(model, val_loader, device)\n",
    "        print ('Epoch [{}/{}], Loss: {:.4f} - Train accuracy {:.4f} - Validation accuracy {:.4f}' \n",
    "                    .format(epoch+1, num_epochs, epoch_loss / len(train_loader), train_acc, val_acc))\n",
    "        \n",
    "    model.eval()"
   ]
  },
  {
   "cell_type": "code",
   "execution_count": 36,
   "metadata": {},
   "outputs": [
    {
     "name": "stderr",
     "output_type": "stream",
     "text": [
      "100%|██████████| 19/19 [00:05<00:00,  3.23it/s]\n"
     ]
    },
    {
     "name": "stdout",
     "output_type": "stream",
     "text": [
      "Epoch [1/20], Loss: 1.7042 - Train accuracy 0.5448 - Validation accuracy 0.5882\n"
     ]
    },
    {
     "name": "stderr",
     "output_type": "stream",
     "text": [
      "100%|██████████| 19/19 [00:00<00:00, 31.35it/s]\n"
     ]
    },
    {
     "name": "stdout",
     "output_type": "stream",
     "text": [
      "Epoch [2/20], Loss: 0.8504 - Train accuracy 0.4621 - Validation accuracy 0.4706\n"
     ]
    },
    {
     "name": "stderr",
     "output_type": "stream",
     "text": [
      "100%|██████████| 19/19 [00:00<00:00, 33.97it/s]\n"
     ]
    },
    {
     "name": "stdout",
     "output_type": "stream",
     "text": [
      "Epoch [3/20], Loss: 0.7989 - Train accuracy 0.7655 - Validation accuracy 0.5294\n"
     ]
    },
    {
     "name": "stderr",
     "output_type": "stream",
     "text": [
      "100%|██████████| 19/19 [00:00<00:00, 36.07it/s]\n"
     ]
    },
    {
     "name": "stdout",
     "output_type": "stream",
     "text": [
      "Epoch [4/20], Loss: 0.6272 - Train accuracy 0.7517 - Validation accuracy 0.8235\n"
     ]
    },
    {
     "name": "stderr",
     "output_type": "stream",
     "text": [
      "100%|██████████| 19/19 [00:00<00:00, 35.41it/s]\n"
     ]
    },
    {
     "name": "stdout",
     "output_type": "stream",
     "text": [
      "Epoch [5/20], Loss: 0.7165 - Train accuracy 0.8966 - Validation accuracy 0.9412\n"
     ]
    },
    {
     "name": "stderr",
     "output_type": "stream",
     "text": [
      "100%|██████████| 19/19 [00:00<00:00, 34.94it/s]\n"
     ]
    },
    {
     "name": "stdout",
     "output_type": "stream",
     "text": [
      "Epoch [6/20], Loss: 0.4081 - Train accuracy 0.6828 - Validation accuracy 0.5882\n"
     ]
    },
    {
     "name": "stderr",
     "output_type": "stream",
     "text": [
      "100%|██████████| 19/19 [00:00<00:00, 36.72it/s]\n"
     ]
    },
    {
     "name": "stdout",
     "output_type": "stream",
     "text": [
      "Epoch [7/20], Loss: 0.5504 - Train accuracy 0.5448 - Validation accuracy 0.5882\n"
     ]
    },
    {
     "name": "stderr",
     "output_type": "stream",
     "text": [
      "100%|██████████| 19/19 [00:00<00:00, 34.61it/s]\n"
     ]
    },
    {
     "name": "stdout",
     "output_type": "stream",
     "text": [
      "Epoch [8/20], Loss: 1.0823 - Train accuracy 0.9172 - Validation accuracy 0.9412\n"
     ]
    },
    {
     "name": "stderr",
     "output_type": "stream",
     "text": [
      "100%|██████████| 19/19 [00:00<00:00, 33.17it/s]\n"
     ]
    },
    {
     "name": "stdout",
     "output_type": "stream",
     "text": [
      "Epoch [9/20], Loss: 0.5819 - Train accuracy 0.9034 - Validation accuracy 0.9412\n"
     ]
    },
    {
     "name": "stderr",
     "output_type": "stream",
     "text": [
      "100%|██████████| 19/19 [00:00<00:00, 36.86it/s]\n"
     ]
    },
    {
     "name": "stdout",
     "output_type": "stream",
     "text": [
      "Epoch [10/20], Loss: 0.9046 - Train accuracy 0.5448 - Validation accuracy 0.5882\n"
     ]
    },
    {
     "name": "stderr",
     "output_type": "stream",
     "text": [
      "100%|██████████| 19/19 [00:00<00:00, 34.95it/s]\n"
     ]
    },
    {
     "name": "stdout",
     "output_type": "stream",
     "text": [
      "Epoch [11/20], Loss: 0.6182 - Train accuracy 0.8828 - Validation accuracy 0.8824\n"
     ]
    },
    {
     "name": "stderr",
     "output_type": "stream",
     "text": [
      "100%|██████████| 19/19 [00:00<00:00, 30.42it/s]\n"
     ]
    },
    {
     "name": "stdout",
     "output_type": "stream",
     "text": [
      "Epoch [12/20], Loss: 0.5197 - Train accuracy 0.9241 - Validation accuracy 0.9412\n"
     ]
    },
    {
     "name": "stderr",
     "output_type": "stream",
     "text": [
      "100%|██████████| 19/19 [00:00<00:00, 30.52it/s]\n"
     ]
    },
    {
     "name": "stdout",
     "output_type": "stream",
     "text": [
      "Epoch [13/20], Loss: 1.1237 - Train accuracy 0.7103 - Validation accuracy 0.6471\n"
     ]
    },
    {
     "name": "stderr",
     "output_type": "stream",
     "text": [
      "100%|██████████| 19/19 [00:00<00:00, 33.33it/s]\n"
     ]
    },
    {
     "name": "stdout",
     "output_type": "stream",
     "text": [
      "Epoch [14/20], Loss: 2.5215 - Train accuracy 0.8966 - Validation accuracy 0.8824\n"
     ]
    },
    {
     "name": "stderr",
     "output_type": "stream",
     "text": [
      "100%|██████████| 19/19 [00:00<00:00, 34.41it/s]\n"
     ]
    },
    {
     "name": "stdout",
     "output_type": "stream",
     "text": [
      "Epoch [15/20], Loss: 1.7470 - Train accuracy 0.8966 - Validation accuracy 0.8824\n"
     ]
    },
    {
     "name": "stderr",
     "output_type": "stream",
     "text": [
      "100%|██████████| 19/19 [00:00<00:00, 30.24it/s]\n"
     ]
    },
    {
     "name": "stdout",
     "output_type": "stream",
     "text": [
      "Epoch [16/20], Loss: 0.6301 - Train accuracy 0.5448 - Validation accuracy 0.5882\n"
     ]
    },
    {
     "name": "stderr",
     "output_type": "stream",
     "text": [
      "100%|██████████| 19/19 [00:00<00:00, 31.78it/s]\n"
     ]
    },
    {
     "name": "stdout",
     "output_type": "stream",
     "text": [
      "Epoch [17/20], Loss: 0.6827 - Train accuracy 0.8276 - Validation accuracy 0.8824\n"
     ]
    },
    {
     "name": "stderr",
     "output_type": "stream",
     "text": [
      "100%|██████████| 19/19 [00:00<00:00, 33.06it/s]\n"
     ]
    },
    {
     "name": "stdout",
     "output_type": "stream",
     "text": [
      "Epoch [18/20], Loss: 0.8231 - Train accuracy 0.8690 - Validation accuracy 0.8824\n"
     ]
    },
    {
     "name": "stderr",
     "output_type": "stream",
     "text": [
      "100%|██████████| 19/19 [00:00<00:00, 33.28it/s]\n"
     ]
    },
    {
     "name": "stdout",
     "output_type": "stream",
     "text": [
      "Epoch [19/20], Loss: 1.2250 - Train accuracy 0.8345 - Validation accuracy 0.8824\n"
     ]
    },
    {
     "name": "stderr",
     "output_type": "stream",
     "text": [
      "100%|██████████| 19/19 [00:00<00:00, 37.86it/s]\n"
     ]
    },
    {
     "name": "stdout",
     "output_type": "stream",
     "text": [
      "Epoch [20/20], Loss: 0.9502 - Train accuracy 0.9793 - Validation accuracy 1.0000\n"
     ]
    }
   ],
   "source": [
    "# Entraînement du modèle\n",
    "train(model)"
   ]
  },
  {
   "cell_type": "code",
   "execution_count": 37,
   "metadata": {},
   "outputs": [
    {
     "data": {
      "text/plain": [
       "0.9428571428571428"
      ]
     },
     "execution_count": 37,
     "metadata": {},
     "output_type": "execute_result"
    }
   ],
   "source": [
    "# Précision sur le set de test\n",
    "evaluate_accuracy(model, test_loader, device)"
   ]
  },
  {
   "cell_type": "markdown",
   "metadata": {},
   "source": [
    "Si on change le random_state dans le train_test_split, et qu'on execute toute la partie Camembert, voici les précisions sur le set de test:\n",
    "- random_state = 42 : 0.96\n",
    "- random_state = 43 : 0.90\n",
    "- random_state = 44 : 0.94\n",
    "- random_state = 47 : 0.87\n",
    "- random_state = 57 : 0.91\n",
    "- random_state = 9999 : 0.92\n",
    "- random_state = 897 : 0.94\n",
    "- random_state = 90 : 0.80"
   ]
  }
 ],
 "metadata": {
  "kernelspec": {
   "display_name": "test_env_2",
   "language": "python",
   "name": "python3"
  },
  "language_info": {
   "codemirror_mode": {
    "name": "ipython",
    "version": 3
   },
   "file_extension": ".py",
   "mimetype": "text/x-python",
   "name": "python",
   "nbconvert_exporter": "python",
   "pygments_lexer": "ipython3",
   "version": "3.12.2"
  }
 },
 "nbformat": 4,
 "nbformat_minor": 2
}
